{
 "cells": [
  {
   "cell_type": "markdown",
   "metadata": {},
   "source": [
    "## Calculate the Mass of Jupiter from the Galilean Moons ##\n",
    "\n",
    "Start with Kepler's 3rd Law:\n",
    "\n",
    "$P^2 = \\frac{4 \\pi^2}{GM} a^3$\n",
    "\n",
    "Take log of both sides:\n",
    "\n",
    "$2 log_{10}(P) = log_{10} \\left(\\frac{4 \\pi^2}{GM}\\right) + 3 log_{10}(P) $\n",
    "\n",
    "Then divide through by 2:\n",
    "\n",
    "$log_{10}(P) = \\frac{1}{2} log_{10} \\left(\\frac{4 \\pi^2}{GM}\\right) + \\frac{3}{2} log_{10}(P) $\n",
    "\n",
    "Put in the form $y = mx + b$:\n",
    "\n",
    "$log_{10}(P) =  \\frac{3}{2} log_{10}(P) + \\frac{1}{2} log_{10} \\left(\\frac{4 \\pi^2}{GM}\\right) $\n",
    "\n",
    "This gives:\n",
    "\n",
    "$ b = \\frac{1}{2} log_{10} \\left(\\frac{4 \\pi^2}{GM}\\right)$\n",
    "\n",
    "and \n",
    "\n",
    "$m = \\frac{3}{2} $\n",
    "\n",
    "\n",
    "We can solve for the mass of Jupiter from the intercept:\n",
    "\n",
    "$ 2 b = log_{10} \\left(\\frac{4 \\pi^2}{GM}\\right) $\n",
    "\n",
    "Raise both sides to the power of 10:\n",
    "\n",
    "$10 ^ {2b} =  \\frac{4 \\pi^2}{GM}$\n",
    "\n",
    "Solve for M:\n",
    "\n",
    "$ M = \\frac{4 \\pi^2}{G 10^{2b}} $"
   ]
  },
  {
   "cell_type": "code",
   "execution_count": 29,
   "metadata": {
    "collapsed": true
   },
   "outputs": [],
   "source": [
    "import numpy as np\n",
    "from matplotlib import pyplot as plt\n",
    "%matplotlib inline"
   ]
  },
  {
   "cell_type": "code",
   "execution_count": 30,
   "metadata": {
    "collapsed": true
   },
   "outputs": [],
   "source": [
    "# enter data\n",
    "p = np.array([1.769, 3.551, 7.155, 16.689]) # in days\n",
    "a = np.array([421.7, 670.9, 1070.4, 1882.7]) # in 1e3 km"
   ]
  },
  {
   "cell_type": "markdown",
   "metadata": {},
   "source": [
    "** convert period to seconds and semi-major axis to m **"
   ]
  },
  {
   "cell_type": "code",
   "execution_count": 31,
   "metadata": {
    "collapsed": true
   },
   "outputs": [],
   "source": [
    "p = p*24.*3600.\n",
    "a = a*1.e3*1.e3"
   ]
  },
  {
   "cell_type": "markdown",
   "metadata": {},
   "source": [
    "** Plot log10(p) versus log10(a) **"
   ]
  },
  {
   "cell_type": "code",
   "execution_count": 32,
   "metadata": {
    "collapsed": false
   },
   "outputs": [
    {
     "name": "stdout",
     "output_type": "stream",
     "text": [
      "best-fit slope = 1.50\n",
      "best-fit intercept = -7.753\n"
     ]
    },
    {
     "data": {
      "image/png": "[encoded data removed]",
      "text/plain": [
       "<Figure size 432x288 with 1 Axes>"
      ]
     },
     "metadata": {},
     "output_type": "display_data"
    }
   ],
   "source": [
    "plt.figure()\n",
    "plt.plot(np.log10(a),np.log10(p),'bo',label='Moons')\n",
    "plt.xlabel('$log_{10}(Semi-major \\ axis \\ (m))$',fontsize=14)\n",
    "plt.ylabel('$log_{10}(Period \\ (s)) $',fontsize=14)\n",
    "plt.title('Galilean Moons of Jupiter', fontsize=18)\n",
    "\n",
    "# fit a line to log10(P) vs log10(a)\n",
    "d = np.polyfit(np.log10(a),np.log10(p),1)\n",
    "xline = np.linspace(min(np.log10(a)),max(np.log10(a)),10)\n",
    "yline = np.polyval(d,xline)\n",
    "plt.plot(xline,yline,'r--',label='Linear Fit')\n",
    "plt.legend()\n",
    "print('best-fit slope = %.2f'%d[0])\n",
    "print('best-fit intercept = %.3f'%d[1])"
   ]
  },
  {
   "cell_type": "code",
   "execution_count": 41,
   "metadata": {
    "collapsed": false
   },
   "outputs": [
    {
     "name": "stdout",
     "output_type": "stream",
     "text": [
      "1.9003109320236084e+27\n"
     ]
    }
   ],
   "source": [
    "m = 4*np.pi**2/(6.67e-11)/(10**(2*d[1]))\n",
    "print(m)"
   ]
  },
  {
   "cell_type": "code",
   "execution_count": 34,
   "metadata": {
    "collapsed": true
   },
   "outputs": [],
   "source": [
    "import astropy.constants as c"
   ]
  },
  {
   "cell_type": "code",
   "execution_count": 35,
   "metadata": {
    "collapsed": false
   },
   "outputs": [
    {
     "data": {
      "text/latex": [
       "$1.8981872 \\times 10^{27} \\; \\mathrm{kg}$"
      ],
      "text/plain": [
       "<<class 'astropy.constants.iau2015.IAU2015'> name='Jupiter mass' value=1.8981871658715508e+27 uncertainty=8.816766077424614e+22 unit='kg' reference='IAU 2015 Resolution B 3 + CODATA 2014'>"
      ]
     },
     "execution_count": 35,
     "metadata": {},
     "output_type": "execute_result"
    }
   ],
   "source": [
    "c.M_jup"
   ]
  },
  {
   "cell_type": "markdown",
   "metadata": {
    "collapsed": true
   },
   "source": [
    "woo hoo!"
   ]
  }
 ],
 "metadata": {
  "kernelspec": {
   "display_name": "Python [conda env:py36]",
   "language": "python",
   "name": "conda-env-py36-py"
  },
  "language_info": {
   "codemirror_mode": {
    "name": "ipython",
    "version": 3
   },
   "file_extension": ".py",
   "mimetype": "text/x-python",
   "name": "python",
   "nbconvert_exporter": "python",
   "pygments_lexer": "ipython3",
   "version": "3.6.5"
  }
 },
 "nbformat": 4,
 "nbformat_minor": 2
}
