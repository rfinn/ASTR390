{
 "cells": [
  {
   "cell_type": "markdown",
   "metadata": {},
   "source": [
    "#  Luminous and Dynamical Mass Estimates of Spiral Galaxies #\n",
    "\n",
    "\n",
    "One of the coolest things about spiral galaxies is that we can infer the presence of dark matter from the dynamical motion of their gas and stars.  We will look at the distribution of matter and the motion of stars in the spiral galaxy UGC 4895.\n",
    "\n",
    "\n",
    "**Goal:**  \n",
    "Investigate amount and radial distribution of dark matter in a spiral galaxy\n",
    "\n",
    "**Procedure:**\n",
    "* Rotation curve\n",
    "    * plot rotation curve \n",
    "    * correction of inclination \n",
    "    * estimate enclosed mass vs radius \n",
    "* plot surface brightness\n",
    "    * convert surface brightness to luminosity\n",
    "    * convert luminosity to mass using a M/L ratio\n",
    "    * estimate luminuous mass vs radius\n",
    "* compare profiles\n",
    "    * estimate the amount of dark matter"
   ]
  },
  {
   "cell_type": "code",
   "execution_count": 4,
   "metadata": {},
   "outputs": [],
   "source": [
    "from astropy.io import ascii\n",
    "from matplotlib import pyplot as plt\n",
    "%matplotlib inline\n",
    "import wget\n",
    "import numpy as np\n"
   ]
  },
  {
   "cell_type": "markdown",
   "metadata": {},
   "source": [
    "## The Data ##\n",
    "\n",
    "For this exercise, we will use a rotation curve and surface brightness profile for a galaxy named UGC 4895.  The rotation curve data have been provided courtesy of Martha Haynes.  The rotation curve data show the velocity derived from the Doppler Shift of the H$\\alpha$ line.  \n",
    "\n",
    "I have provided the $r$-band radial profile in a file called ugc4895r-ellipse-whdr.dat.  This file was generated from an iraf task called ellipse.  Ellipse will fit the center and elliptical properties of the galaxy and then measure the flux (and other parameters) in concentric ellipses.  You can see the other measured parameters by printing the file\n"
   ]
  },
  {
   "cell_type": "code",
   "execution_count": 6,
   "metadata": {},
   "outputs": [],
   "source": [
    "hfile = wget.download('https://raw.githubusercontent.com/rfinn/ASTR390/master/darkmatter/UGC4895.ha.csv')\n",
    "rfile = wget.download('https://raw.githubusercontent.com/rfinn/ASTR390/master/darkmatter/ugc4895r-ellipse-whdr.dat')"
   ]
  },
  {
   "cell_type": "code",
   "execution_count": 7,
   "metadata": {},
   "outputs": [],
   "source": [
    "ha = ascii.read(hfile,delimiter=',')\n",
    "rdat = ascii.read(rfile)\n"
   ]
  },
  {
   "cell_type": "markdown",
   "metadata": {},
   "source": [
    "In the cell below, and print the ha table.  Record the columns for the Halpha rotation curve file.\n",
    "\n",
    "Halpha Rotation Curve\n",
    "* col 1\n",
    "* col 2\n",
    "\n",
    "\n",
    "**Questions:**\n",
    "1. What does each column contain?\n",
    "2. Determine the maximum velocity observed from the $H\\alpha$ line.  At what wavelength would that line be detected?\n",
    "\n"
   ]
  },
  {
   "cell_type": "code",
   "execution_count": null,
   "metadata": {},
   "outputs": [],
   "source": []
  },
  {
   "cell_type": "markdown",
   "metadata": {},
   "source": [
    "In the cell below, print the rdat file.  There are A LOT of columns.  Identify a column names that correspond to the properties listed below: \n",
    "\n",
    "* radius\n",
    "* ellipticity\n",
    "* position angle\n",
    "* center\n",
    "* enclosed flux"
   ]
  },
  {
   "cell_type": "code",
   "execution_count": null,
   "metadata": {},
   "outputs": [],
   "source": []
  },
  {
   "cell_type": "markdown",
   "metadata": {},
   "source": [
    "## Rotation Curve ##\n",
    "\n",
    "Look up UGC 4895 using the SDSS navigator http://skyserver.sdss.org/dr14/en/tools/chart/navi.aspx.\n",
    "\n",
    "Turn the grid feature on, and use the scale to estimate the approximate size of UGC 4895.\n",
    "Record your results in the cell below.\n",
    "\n",
    "Compare this to the ellipticity measured in the rdat file."
   ]
  },
  {
   "cell_type": "code",
   "execution_count": null,
   "metadata": {},
   "outputs": [],
   "source": [
    "mylength =  # longest dimension, major axis\n",
    "mywidth =   # shortest dimension, minor axis\n",
    "myellip = mywidth/mylength\n"
   ]
  },
  {
   "cell_type": "markdown",
   "metadata": {},
   "source": [
    "### Plotting the Rotation Curve ###\n",
    "\n",
    "We will next make a plot of the rotation velocity versus distance from the center of the galaxy."
   ]
  },
  {
   "cell_type": "code",
   "execution_count": 15,
   "metadata": {},
   "outputs": [
    {
     "data": {
      "text/plain": [
       "Text(0,0.5,'Rotation Velocity (km/s)')"
      ]
     },
     "execution_count": 15,
     "metadata": {},
     "output_type": "execute_result"
    },
    {
     "data": {
      "image/png": "[encoded data removed]",
      "text/plain": [
       "<Figure size 432x288 with 1 Axes>"
      ]
     },
     "metadata": {},
     "output_type": "display_data"
    }
   ],
   "source": [
    "plt.figure()\n",
    "plt.plot(ha['rad'],ha['vrot'],'bo')\n",
    "plt.xlabel('Radius (arcseconds)', fontsize=16)\n",
    "plt.ylabel('Rotation Velocity (km/s)',fontsize=16)\n"
   ]
  },
  {
   "cell_type": "markdown",
   "metadata": {},
   "source": [
    "Redo the plot above, but convert the radius from arcseconds to kpc.  To do this, you will need the galaxy's distance.  \n",
    "* Use NED (https://ned.ipac.caltech.edu/) to get the recession velocity of UGC4895.  Record it below (with the uncertainty).\n",
    "* Use Hubble's Law to get the distance in Mpc (assume $H_0 = 70$ km/s/Mpc).\n",
    "\n",
    "$$ v_r = H_0 d $$\n",
    "\n",
    "* you will also need to convert the radius from units of arcseconds to radians.  Remember 3600 arcseconds = 1 degree.\n",
    "\n",
    "* You can then use the small angle formula:\n",
    "\n",
    "$$ radius_{kpc} = radius_{radians} \\times d_{kpc} $$"
   ]
  },
  {
   "cell_type": "code",
   "execution_count": null,
   "metadata": {},
   "outputs": [],
   "source": [
    "cz = # recession velocity\n",
    "d = # distance in Mpc\n",
    "dkpc = # distance in kpc\n",
    "\n",
    "r_kpc = #\n"
   ]
  },
  {
   "cell_type": "markdown",
   "metadata": {},
   "source": [
    "**Questions**\n",
    "3. Estimate the maximum/minimum rotation velocity.\n",
    "4. How does the rotation curve compare with the orbital velocity of planets in our solar system vs. distance from the Sun?"
   ]
  },
  {
   "cell_type": "markdown",
   "metadata": {},
   "source": [
    "### Correct Rotational Velocity for Inclination ###\n",
    "\n",
    "\n",
    "When we observe the rotation velocity of an edge-on spiral galaxy, we measure\n",
    "its true rotation velocity.  If we observe a galaxy that is face-on, we\n",
    "can not detect any rotation velocity because the rotational motion is \n",
    "perpendicular to our line-of-sight.\n",
    "\n",
    "\n",
    "* Remember the observed and true rotational velocities depend on the\n",
    "inclination of a galaxy, where the inclination angle is 90 degrees for\n",
    "an edge-on galaxy and 0 degrees for a face-on galaxy.\n",
    "* If we assume that all spiral galaxies are perfectly circular, then the apparent\n",
    "shape of a galaxy tells us about its inclination.  For example, a face-on\n",
    "galaxy with have equal semi-major (a) and semi-minor (b) axes, whereas a nearly edge-on galaxy will have a semi-major axis that is much larger than the observed semi-minor axis.\n",
    "* The ratio $b/a$ is given in the rdat file (ellipticity).\n",
    "* Use this information to calculate the galaxy's inclination, where\n",
    "\n",
    "$$sin i = \\sqrt{1 - \\left(\\frac{b}{a} \\right)^2}.$$\n",
    "\n",
    "* Use the inclination angles to correct the observed rotational velocities\n",
    "to true rotational velocities, where\n",
    "\n",
    "$$ v_{rot} = \\frac{v_{rot}(obs)}{sin i} $$\n"
   ]
  },
  {
   "cell_type": "code",
   "execution_count": null,
   "metadata": {},
   "outputs": [],
   "source": [
    "a = # semi-major axis\n",
    "b = # semi-minor axis\n",
    "i = # inclination\n",
    "vrot = # corrected rotational velocity\n"
   ]
  },
  {
   "cell_type": "markdown",
   "metadata": {},
   "source": [
    "### Estimate Mass from Rotational Velocity ###\n",
    "\n",
    "Now let's think about the motion of one ${\\it test}$ star in the galaxy.  Let this star be some distance $r_\\star$ from the center of the galaxy.  Gauss's Law tells us that the gravitational acceleration of a mass depends on the amount of material inside the mass's orbit, $M(<r_\\star)$.  \n",
    "\n",
    "Assume that the star is on a circular orbit, and that the only important force on the star is the gravitational force from the combined mass at $r < r_\\star$.  Come up with an expression for the velocity of the star as a function of $M(r)$.\n",
    "\n",
    "Use your relationship to create a plot of enclosed mass vs. radius.\n",
    "\n"
   ]
  },
  {
   "cell_type": "code",
   "execution_count": null,
   "metadata": {},
   "outputs": [],
   "source": [
    "# plot of enclosed mass in solar masses versus radius in kpc\n"
   ]
  },
  {
   "cell_type": "markdown",
   "metadata": {},
   "source": [
    "## Surface Brightness Profile ##\n",
    "### Convert Surface Brightness to Stellar Mass ###\n",
    "\n",
    "The plot below shows the surface brightness of the galaxy as a function of radius.  Remember that large magnitudes are fainter, so the graph shows that the galaxy's light is getting fainter as the distance from the center increases.\n",
    "\n",
    "We want to use the observed brightness to estimate the mass associated with light we see.\n",
    "\n"
   ]
  },
  {
   "cell_type": "code",
   "execution_count": 9,
   "metadata": {},
   "outputs": [
    {
     "data": {
      "text/plain": [
       "Text(0,0.5,'$\\\\rm r-band \\\\ Surface \\\\ Brightness  \\\\ (mag/arcsec^2)$')"
      ]
     },
     "execution_count": 9,
     "metadata": {},
     "output_type": "execute_result"
    },
    {
     "data": {
      "image/png": "[encoded data removed]",
      "text/plain": [
       "<Figure size 432x288 with 1 Axes>"
      ]
     },
     "metadata": {},
     "output_type": "display_data"
    }
   ],
   "source": [
    "plt.figure()\n",
    "plt.plot(rdat['SMA'],rdat['MAG'],'bo')\n",
    "plt.xlabel('Radius (pixels)', fontsize=16)\n",
    "plt.ylabel(r'$\\rm r-band \\ Surface \\ Brightness  \\ (mag/arcsec^2)$',fontsize=16)\n",
    "\n"
   ]
  },
  {
   "cell_type": "markdown",
   "metadata": {},
   "source": [
    "We can estimate the stellar mass from the observed color and magnitude of a galaxy.  \n",
    "\n",
    "\n",
    "First, we can estimate the mass-to-light ration from the color of the galaxy according to Bell+2003 (http://iopscience.iop.org/article/10.1086/378847/fulltext/)\n",
    "\n",
    "$$\\rm (M/L_r) = -0.306 + 1.097(g - r) $$\n",
    "\n",
    "Use the SDSS navigator to get an approximate value for the $g-r$ color of UCG4895.\n",
    "\n"
   ]
  },
  {
   "cell_type": "code",
   "execution_count": null,
   "metadata": {},
   "outputs": [],
   "source": [
    "gr = # g-r color\n",
    "ML = #mass to light ratio\n"
   ]
  },
  {
   "cell_type": "markdown",
   "metadata": {},
   "source": [
    "You now have to convert the enclosed flux, TFLUX_E, to units of stellar mass.\n",
    "\n",
    "The units of $r$-band image are nanomaggies, where\n",
    "$$\\rm 1 ~ nanomaggy = 3.631 \\times 10^{-6}~Jy. $$\n",
    "\n",
    "* convert from nanomaggies to Jansky (Jy)\n",
    "* convert from Jy to ergs/s/cm^2 by multiplying by the bandpass of the r-band filter in Hertz.\n",
    "* convert to ergs/s by multiplying by $4 \\pi d^2$, where d is the distance in cm.\n",
    "* convert to $L_\\odot$ by dividing by the luminosity of the sun.\n",
    "\n"
   ]
  },
  {
   "cell_type": "code",
   "execution_count": null,
   "metadata": {},
   "outputs": [],
   "source": []
  },
  {
   "cell_type": "markdown",
   "metadata": {},
   "source": [
    "You also need to convert the radius values from pixels to arcseconds.  The r-band data comes from the SDSS, which has a pixel scale of 0.396 arcseconds/pixel."
   ]
  },
  {
   "cell_type": "code",
   "execution_count": null,
   "metadata": {},
   "outputs": [],
   "source": [
    "rrad_arcsec = rdat['SMA']   # finish this line to convert semi-major axis from pixels to arcseconds\n"
   ]
  },
  {
   "cell_type": "markdown",
   "metadata": {},
   "source": [
    "## Tying it all together ##\n",
    "\n",
    "Create a plot that shows the enclosed mass AND the mass associated with the stars.  \n",
    "\n",
    "Calculate the difference between these two curves to create a plot of the missing mass versus radius."
   ]
  },
  {
   "cell_type": "code",
   "execution_count": null,
   "metadata": {},
   "outputs": [],
   "source": []
  }
 ],
 "metadata": {
  "kernelspec": {
   "display_name": "Python 3",
   "language": "python",
   "name": "python3"
  },
  "language_info": {
   "codemirror_mode": {
    "name": "ipython",
    "version": 3
   },
   "file_extension": ".py",
   "mimetype": "text/x-python",
   "name": "python",
   "nbconvert_exporter": "python",
   "pygments_lexer": "ipython3",
   "version": "3.6.5"
  }
 },
 "nbformat": 4,
 "nbformat_minor": 2
}
