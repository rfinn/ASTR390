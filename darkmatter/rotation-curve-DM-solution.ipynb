{
 "cells": [
  {
   "cell_type": "markdown",
   "metadata": {},
   "source": [
    "#  Luminous and Dynamical Mass Estimates of Spiral Galaxies #\n",
    "\n",
    "\n",
    "One of the coolest things about spiral galaxies is that we can infer the presence of dark matter from the dynamical motion of their gas and stars.  We will look at the distribution of matter and the motion of stars in the spiral galaxy UGC 4895.\n",
    "\n",
    "\n",
    "**Goal:**  \n",
    "Investigate amount and radial distribution of dark matter in a spiral galaxy\n",
    "\n",
    "**Procedure:**\n",
    "* Rotation curve\n",
    "    * plot rotation curve \n",
    "    * correction of inclination \n",
    "    * estimate enclosed mass vs radius \n",
    "* plot surface brightness\n",
    "    * convert surface brightness to luminosity\n",
    "    * convert luminosity to mass using a M/L ratio\n",
    "    * estimate luminuous mass vs radius\n",
    "* compare profiles\n",
    "    * estimate the amount of dark matter\n",
    "    \n",
    "** Required Knowledge **\n",
    "\n",
    "* Doppler shift - how to calculate observed wavelength of light given the rest/emitted wavelength and velocity of the source.\n",
    "\n",
    "$$ \\frac{v}{c} = \\frac{\\lambda_{observed} - \\lambda_{emitted}}{\\lambda_{emitted}} $$"
   ]
  },
  {
   "cell_type": "markdown",
   "metadata": {},
   "source": [
    "**ONLY RUN THE NEXT CELL IF YOU ARE RUNNING IN THE CLOUD**\n",
    "\n",
    "If you are running on a web server or google colab, you might need to run the following commands:"
   ]
  },
  {
   "cell_type": "code",
   "execution_count": null,
   "metadata": {},
   "outputs": [],
   "source": [
    "!pip install astropy\n",
    "!pip install wget"
   ]
  },
  {
   "cell_type": "markdown",
   "metadata": {},
   "source": [
    "Load the modules we will need"
   ]
  },
  {
   "cell_type": "code",
   "execution_count": 2,
   "metadata": {},
   "outputs": [],
   "source": [
    "from astropy.io import ascii\n",
    "from matplotlib import pyplot as plt\n",
    "%matplotlib inline\n",
    "import wget\n",
    "import numpy as np"
   ]
  },
  {
   "cell_type": "markdown",
   "metadata": {},
   "source": [
    "## The Data ##\n",
    "\n",
    "For this exercise, we will use a rotation curve and surface brightness profile for a galaxy named UGC 4895.  The rotation curve data have been provided courtesy of Martha Haynes.  The rotation curve data show the velocity (in units of km/s) derived from the Doppler Shift of the H$\\alpha$ line as a function of position along the major axis (in units of arcseconds).  \n",
    "\n",
    "I have provided the $r$-band radial profile in a file called ugc4895r-ellipse-whdr.dat.  This file was generated from an iraf task called ellipse.  Ellipse will fit the center and elliptical properties of the galaxy and then measure the flux (and other parameters) in concentric ellipses.  You can see the other measured parameters by printing the file\n"
   ]
  },
  {
   "cell_type": "code",
   "execution_count": 3,
   "metadata": {},
   "outputs": [],
   "source": [
    "hfile = wget.download('https://raw.githubusercontent.com/rfinn/ASTR390/master/darkmatter/UGC4895.ha.csv')\n",
    "rfile = wget.download('https://raw.githubusercontent.com/rfinn/ASTR390/master/darkmatter/ugc4895r-ellipse-whdr.dat')"
   ]
  },
  {
   "cell_type": "code",
   "execution_count": 4,
   "metadata": {},
   "outputs": [],
   "source": [
    "ha = ascii.read(hfile,delimiter=',')\n",
    "rdat = ascii.read(rfile)\n"
   ]
  },
  {
   "cell_type": "code",
   "execution_count": 5,
   "metadata": {},
   "outputs": [
    {
     "name": "stdout",
     "output_type": "stream",
     "text": [
      " rad   vrot  evrot\n",
      "----- ------ -----\n",
      "-43.3 -234.7  12.2\n",
      "-42.7 -224.9   8.0\n",
      "-42.1 -213.2   7.8\n",
      "-41.5 -203.2   9.7\n",
      "-41.0 -198.0  11.3\n",
      "-36.9 -146.1  14.8\n",
      "-27.7 -239.5   9.4\n",
      "-27.1 -228.0   7.6\n",
      "-26.5 -219.6   4.7\n",
      "-26.0 -219.6   4.5\n",
      "  ...    ...   ...\n",
      " 29.4  201.1  15.9\n",
      " 32.3  208.5  15.8\n",
      " 32.9  202.2   7.8\n",
      " 33.5  201.5   5.5\n",
      " 34.0  203.4   5.3\n",
      " 34.6  216.3   5.6\n",
      " 35.2  226.6   6.7\n",
      " 35.8  226.4   8.0\n",
      " 36.4  225.1   7.4\n",
      " 36.9  226.3   6.4\n",
      " 37.5  233.0   6.2\n",
      "Length = 116 rows\n"
     ]
    }
   ],
   "source": [
    "print(ha)"
   ]
  },
  {
   "cell_type": "markdown",
   "metadata": {},
   "source": [
    "In the cell below, and print the ha table (just enter ha, then shift-Enter).  Record the columns for the Halpha rotation curve file.\n",
    "\n",
    "Halpha Rotation Curve\n",
    "\n",
    "    \n",
    "* col 1:  radial distance along semi-major axis in arcseconds\n",
    "* col 2:  rotational velocity in km/s\n",
    "* col 3:  error in the rotational velocity in km/s\n",
    "\n",
    "\n",
    "**Questions:**\n",
    "1. What does each column contain?\n",
    "\n",
    "<font color=blue>\n",
    "ANS: See above\n",
    "</font>\n",
    "\n"
   ]
  },
  {
   "cell_type": "code",
   "execution_count": 6,
   "metadata": {},
   "outputs": [
    {
     "name": "stdout",
     "output_type": "stream",
     "text": [
      "235.5\n"
     ]
    }
   ],
   "source": [
    "ha\n",
    "print(max(ha['vrot']))"
   ]
  },
  {
   "cell_type": "markdown",
   "metadata": {},
   "source": [
    "2. Use NED (https://ned.ipac.caltech.edu/) to get the recession velocity (cz) of UGC4895. Record it below \n",
    "3. Calculate the observed wavelength (wavelength_center) of $H\\alpha$ due to the recession velocity of the galaxy.  The rest wavelength of $H\\alpha$ is 656.3 nm.\n",
    "2. Determine the maximum velocity observed from the $H\\alpha$ line.  To do this, you need to add the rotation velocity to the recession velocity, and then calculate the Doppler Shift using the combined velocities.  At what wavelength would that line be detected?\n",
    "\n",
    "<font color=blue>\n",
    "ANS: \n",
    "The max rotation velocity is 235.5 km/s.\n",
    "\n",
    "To find the observed wavelength, we first need the galaxy's recession velocity.  Using the Doppler shift, we can then determine the shifted wavelength of $H\\alpha$ emission due to the bulk motion of the galaxy.\n",
    "\n",
    "\n",
    "From NED\n",
    "and then we can use the Doppler Effect to find the \n",
    "\n",
    "</font>\n"
   ]
  },
  {
   "cell_type": "code",
   "execution_count": 7,
   "metadata": {},
   "outputs": [],
   "source": [
    "wavelength_emitted = 656.3 # wavelength of Halpha in nm\n",
    "v_recession = 7073.004452 # from NED\n",
    "wavelength_center = 65# observed wavelength "
   ]
  },
  {
   "cell_type": "markdown",
   "metadata": {},
   "source": [
    "In the cell below, print the rdat file.  There are A LOT of columns.  Identify a column names that correspond to the properties listed below: \n",
    "\n",
    "<table > \n",
    "    <tr><td> <b>Quantity </b></td> <td><b>Column Name </b>  </td> <td><b>Units </b>  </td></tr>\n",
    "    <tr><td> radius </td>         <td> SMA </td>     <td>pixels  </td> </tr>\n",
    "    <tr><td> ellipticity </td>    <td>ELLIP  </td>   <td>none </td></tr>\n",
    "    <tr><td> position angle </td> <td> PA </td>      <td>degrees </td></tr>\n",
    "    <tr><td> center </td>         <td> X0, Y0 </td>  <td> pixels </td></tr>\n",
    "    <tr><td> enclosed flux </td>  <td>TFLUX_E  </td> <td>nanomaggies </td></tr>\n",
    "</table>\n",
    "\n"
   ]
  },
  {
   "cell_type": "code",
   "execution_count": 8,
   "metadata": {},
   "outputs": [
    {
     "data": {
      "text/html": [
       "<i>Table length=51</i>\n",
       "<table id=\"table34500013416\" class=\"table-striped table-bordered table-condensed\">\n",
       "<thead><tr><th>row</th><th>SMA</th><th>INTENS</th><th>INT_ERR</th><th>PIX_VAR</th><th>RMS</th><th>ELLIP</th><th>ELLIP_ERR</th><th>PA</th><th>PA_ERR</th><th>X0</th><th>X0_ERR</th><th>Y0</th><th>Y0_ERR</th><th>GRAD</th><th>GRAD_ERR</th><th>GRAD_R_ERR</th><th>RSMA</th><th>MAG</th><th>MAG_LERR</th><th>MAG_UERR</th><th>TFLUX_E</th><th>TFLUX_C</th><th>TMAG_E</th><th>TMAG_C</th><th>NPIX_E</th><th>NPIX_C</th><th>A3</th><th>A3_ERR</th><th>B3</th><th>B3_ERR</th><th>A4</th><th>A4_ERR</th><th>B4</th><th>B4_ERR</th><th>NDATA</th><th>NFLAG</th><th>NITER</th><th>STOP</th><th>A_BIG</th><th>SAREA</th></tr></thead>\n",
       "<thead><tr><th>int64</th><th>float64</th><th>float64</th><th>float64</th><th>float64</th><th>float64</th><th>float64</th><th>str6</th><th>float64</th><th>str5</th><th>float64</th><th>str5</th><th>float64</th><th>str5</th><th>float64</th><th>str6</th><th>str6</th><th>float64</th><th>float64</th><th>float64</th><th>float64</th><th>float64</th><th>float64</th><th>float64</th><th>float64</th><th>int64</th><th>int64</th><th>float64</th><th>float64</th><th>float64</th><th>float64</th><th>float64</th><th>float64</th><th>float64</th><th>float64</th><th>int64</th><th>int64</th><th>int64</th><th>int64</th><th>str5</th><th>float64</th></tr></thead>\n",
       "<tr><td>1</td><td>2.19</td><td>4.4</td><td>0.0396</td><td>0.202</td><td>0.143</td><td>0.3846</td><td>0.0294</td><td>-84.13</td><td>2.79</td><td>441.0</td><td>0.05</td><td>297.0</td><td>0.03</td><td>-0.455</td><td>0.263</td><td>0.578</td><td>1.21614</td><td>-1.61</td><td>0.00982</td><td>0.00974</td><td>51.523</td><td>59.645</td><td>-4.28</td><td>-4.44</td><td>11</td><td>13</td><td>0.0485</td><td>0.0317</td><td>-0.0161</td><td>0.0171</td><td>-0.00103</td><td>0.0118</td><td>-0.0271</td><td>0.0195</td><td>13</td><td>0</td><td>1</td><td>0</td><td>INDEF</td><td>2.0</td></tr>\n",
       "<tr><td>2</td><td>2.41</td><td>4.3</td><td>0.0417</td><td>0.213</td><td>0.15</td><td>0.3846</td><td>0.0243</td><td>-84.13</td><td>2.26</td><td>441.0</td><td>0.05</td><td>297.0</td><td>0.03</td><td>-0.499</td><td>0.243</td><td>0.487</td><td>1.24546</td><td>-1.58</td><td>0.0106</td><td>0.0105</td><td>51.523</td><td>92.258</td><td>-4.28</td><td>-4.91</td><td>11</td><td>21</td><td>0.0426</td><td>0.0234</td><td>-0.0137</td><td>0.0127</td><td>0.00184</td><td>0.00621</td><td>-0.0281</td><td>0.015</td><td>13</td><td>0</td><td>1</td><td>0</td><td>INDEF</td><td>2.0</td></tr>\n",
       "<tr><td>3</td><td>2.65</td><td>4.18</td><td>0.041</td><td>0.217</td><td>0.153</td><td>0.3846</td><td>0.0218</td><td>-84.13</td><td>2.11</td><td>441.0</td><td>0.05</td><td>297.0</td><td>0.03</td><td>-0.487</td><td>0.212</td><td>0.436</td><td>1.27549</td><td>-1.55</td><td>0.0107</td><td>0.0106</td><td>59.961</td><td>92.258</td><td>-4.44</td><td>-4.91</td><td>13</td><td>21</td><td>0.0385</td><td>0.0204</td><td>-0.0093</td><td>0.0119</td><td>-0.00346</td><td>0.0087</td><td>-0.0252</td><td>0.0136</td><td>14</td><td>0</td><td>1</td><td>0</td><td>INDEF</td><td>2.0</td></tr>\n",
       "<tr><td>4</td><td>2.91</td><td>4.05</td><td>0.0384</td><td>0.211</td><td>0.149</td><td>0.3846</td><td>0.0192</td><td>-84.13</td><td>1.89</td><td>441.0</td><td>0.04</td><td>297.0</td><td>0.03</td><td>-0.458</td><td>0.189</td><td>0.412</td><td>1.30625</td><td>-1.52</td><td>0.0104</td><td>0.0103</td><td>68.203</td><td>107.02</td><td>-4.58</td><td>-5.07</td><td>15</td><td>25</td><td>0.0284</td><td>0.0163</td><td>-0.0178</td><td>0.0131</td><td>-0.00871</td><td>0.00977</td><td>-0.0208</td><td>0.0123</td><td>15</td><td>0</td><td>1</td><td>0</td><td>INDEF</td><td>2.0</td></tr>\n",
       "<tr><td>5</td><td>3.2</td><td>3.92</td><td>0.0393</td><td>0.222</td><td>0.157</td><td>0.3846</td><td>0.0185</td><td>-84.13</td><td>1.79</td><td>441.0</td><td>0.05</td><td>297.0</td><td>0.03</td><td>-0.442</td><td>0.174</td><td>0.394</td><td>1.33775</td><td>-1.48</td><td>0.0109</td><td>0.0108</td><td>75.977</td><td>149.42</td><td>-4.7</td><td>-5.44</td><td>17</td><td>37</td><td>0.0183</td><td>0.0145</td><td>-0.017</td><td>0.0139</td><td>-0.0129</td><td>0.0103</td><td>-0.0283</td><td>0.0141</td><td>16</td><td>0</td><td>1</td><td>0</td><td>INDEF</td><td>2.0</td></tr>\n",
       "<tr><td>6</td><td>3.52</td><td>3.78</td><td>0.0396</td><td>0.231</td><td>0.163</td><td>0.3846</td><td>0.0187</td><td>-84.13</td><td>1.76</td><td>441.0</td><td>0.05</td><td>297.0</td><td>0.04</td><td>-0.477</td><td>0.15</td><td>0.314</td><td>1.37001</td><td>-1.44</td><td>0.0114</td><td>0.0113</td><td>107.5</td><td>149.42</td><td>-5.08</td><td>-5.44</td><td>25</td><td>37</td><td>0.0126</td><td>0.013</td><td>-0.023</td><td>0.0143</td><td>-0.00912</td><td>0.0109</td><td>-0.0227</td><td>0.0127</td><td>17</td><td>0</td><td>1</td><td>0</td><td>INDEF</td><td>2.0</td></tr>\n",
       "<tr><td>7</td><td>3.88</td><td>3.61</td><td>0.0347</td><td>0.214</td><td>0.151</td><td>0.3846</td><td>0.0144</td><td>-84.13</td><td>1.37</td><td>441.0</td><td>0.04</td><td>297.0</td><td>0.03</td><td>-0.453</td><td>0.124</td><td>0.273</td><td>1.40304</td><td>-1.39</td><td>0.0105</td><td>0.0104</td><td>122.59</td><td>175.65</td><td>-5.22</td><td>-5.61</td><td>29</td><td>45</td><td>0.00737</td><td>0.0103</td><td>-0.0172</td><td>0.011</td><td>-0.00796</td><td>0.00726</td><td>-0.028</td><td>0.0103</td><td>19</td><td>0</td><td>1</td><td>0</td><td>INDEF</td><td>2.0</td></tr>\n",
       "<tr><td>8</td><td>4.26</td><td>3.43</td><td>0.0329</td><td>0.213</td><td>0.151</td><td>0.3846</td><td>0.0137</td><td>-84.13</td><td>1.31</td><td>441.0</td><td>0.05</td><td>297.0</td><td>0.03</td><td>-0.42</td><td>0.102</td><td>0.242</td><td>1.43688</td><td>-1.34</td><td>0.0105</td><td>0.0104</td><td>149.86</td><td>223.48</td><td>-5.44</td><td>-5.87</td><td>37</td><td>61</td><td>0.00236</td><td>0.0101</td><td>-0.0157</td><td>0.0106</td><td>-0.00294</td><td>0.00843</td><td>-0.0227</td><td>0.00991</td><td>21</td><td>0</td><td>1</td><td>0</td><td>INDEF</td><td>2.0</td></tr>\n",
       "<tr><td>9</td><td>4.69</td><td>3.25</td><td>0.0282</td><td>0.191</td><td>0.135</td><td>0.3846</td><td>0.0116</td><td>-84.13</td><td>1.10</td><td>441.0</td><td>0.04</td><td>297.0</td><td>0.03</td><td>-0.378</td><td>0.082</td><td>0.217</td><td>1.47152</td><td>-1.28</td><td>0.00945</td><td>0.00936</td><td>162.74</td><td>246.3</td><td>-5.53</td><td>-5.98</td><td>41</td><td>69</td><td>0.00501</td><td>0.0089</td><td>-0.00914</td><td>0.00892</td><td>0.00468</td><td>0.0067</td><td>-0.0253</td><td>0.00854</td><td>23</td><td>0</td><td>1</td><td>0</td><td>INDEF</td><td>2.0</td></tr>\n",
       "<tr><td>10</td><td>5.16</td><td>3.08</td><td>0.0261</td><td>0.185</td><td>0.131</td><td>0.3846</td><td>0.0102</td><td>-84.13</td><td>0.96</td><td>441.0</td><td>0.04</td><td>297.0</td><td>0.03</td><td>-0.353</td><td>0.0703</td><td>0.199</td><td>1.50701</td><td>-1.22</td><td>0.00927</td><td>0.00919</td><td>207.05</td><td>299.05</td><td>-5.79</td><td>-6.19</td><td>55</td><td>89</td><td>0.00451</td><td>0.00781</td><td>-0.00682</td><td>0.00786</td><td>0.00506</td><td>0.00599</td><td>-0.023</td><td>0.00747</td><td>25</td><td>0</td><td>1</td><td>0</td><td>INDEF</td><td>2.0</td></tr>\n",
       "<tr><td>...</td><td>...</td><td>...</td><td>...</td><td>...</td><td>...</td><td>...</td><td>...</td><td>...</td><td>...</td><td>...</td><td>...</td><td>...</td><td>...</td><td>...</td><td>...</td><td>...</td><td>...</td><td>...</td><td>...</td><td>...</td><td>...</td><td>...</td><td>...</td><td>...</td><td>...</td><td>...</td><td>...</td><td>...</td><td>...</td><td>...</td><td>...</td><td>...</td><td>...</td><td>...</td><td>...</td><td>...</td><td>...</td><td>...</td><td>...</td><td>...</td></tr>\n",
       "<tr><td>42</td><td>108.9</td><td>0.139</td><td>0.00183</td><td>0.0593</td><td>0.042</td><td>0.3846</td><td>INDEF</td><td>-84.13</td><td>INDEF</td><td>441.0</td><td>INDEF</td><td>297.0</td><td>INDEF</td><td>-0.0256</td><td>INDEF</td><td>INDEF</td><td>3.23041</td><td>2.15</td><td>0.0144</td><td>0.0142</td><td>9791.5</td><td>10831.0</td><td>-9.98</td><td>-10.1</td><td>22927</td><td>37229</td><td>-0.00185</td><td>0.00174</td><td>0.000752</td><td>0.0011</td><td>-0.00043</td><td>0.000973</td><td>0.00357</td><td>0.003</td><td>527</td><td>0</td><td>1</td><td>4</td><td>INDEF</td><td>2.0</td></tr>\n",
       "<tr><td>43</td><td>119.79</td><td>0.0988</td><td>0.00164</td><td>0.056</td><td>0.0396</td><td>0.3846</td><td>INDEF</td><td>-84.13</td><td>INDEF</td><td>441.0</td><td>INDEF</td><td>297.0</td><td>INDEF</td><td>-0.0205</td><td>INDEF</td><td>INDEF</td><td>3.3083</td><td>2.51</td><td>0.0182</td><td>0.0179</td><td>10375.0</td><td>11308.0</td><td>-10.0</td><td>-10.1</td><td>27735</td><td>45053</td><td>-0.00228</td><td>0.00205</td><td>0.00271</td><td>0.00236</td><td>0.000957</td><td>0.00119</td><td>0.00446</td><td>0.00368</td><td>579</td><td>0</td><td>1</td><td>4</td><td>INDEF</td><td>2.0</td></tr>\n",
       "<tr><td>44</td><td>131.77</td><td>0.0715</td><td>0.00108</td><td>0.0384</td><td>0.0272</td><td>0.3846</td><td>INDEF</td><td>-84.13</td><td>INDEF</td><td>441.0</td><td>INDEF</td><td>297.0</td><td>INDEF</td><td>-0.0164</td><td>INDEF</td><td>INDEF</td><td>3.38808</td><td>2.86</td><td>0.0165</td><td>0.0162</td><td>10873.0</td><td>11730.0</td><td>-10.1</td><td>-10.2</td><td>33559</td><td>54553</td><td>-0.00353</td><td>0.00291</td><td>-0.000412</td><td>0.000766</td><td>0.000403</td><td>0.000751</td><td>0.0032</td><td>0.00265</td><td>637</td><td>0</td><td>1</td><td>4</td><td>INDEF</td><td>2.0</td></tr>\n",
       "<tr><td>45</td><td>144.95</td><td>0.0596</td><td>0.000865</td><td>0.0324</td><td>0.0229</td><td>0.3846</td><td>INDEF</td><td>-84.13</td><td>INDEF</td><td>441.0</td><td>INDEF</td><td>297.0</td><td>INDEF</td><td>-0.0131</td><td>INDEF</td><td>INDEF</td><td>3.46978</td><td>3.06</td><td>0.0159</td><td>0.0157</td><td>11344.0</td><td>12121.0</td><td>-10.1</td><td>-10.2</td><td>40599</td><td>65985</td><td>-0.00149</td><td>0.00135</td><td>0.000573</td><td>0.000789</td><td>0.000602</td><td>0.000796</td><td>0.00246</td><td>0.00206</td><td>701</td><td>0</td><td>1</td><td>4</td><td>INDEF</td><td>2.0</td></tr>\n",
       "<tr><td>46</td><td>159.44</td><td>0.0513</td><td>0.00112</td><td>0.0442</td><td>0.0312</td><td>0.3846</td><td>INDEF</td><td>-84.13</td><td>INDEF</td><td>441.0</td><td>INDEF</td><td>297.0</td><td>INDEF</td><td>-0.0105</td><td>INDEF</td><td>INDEF</td><td>3.55345</td><td>3.22</td><td>0.0241</td><td>0.0235</td><td>11854.0</td><td>12507.0</td><td>-10.2</td><td>-10.2</td><td>49131</td><td>79877</td><td>0.0044</td><td>0.00364</td><td>0.00503</td><td>0.00413</td><td>-0.00135</td><td>0.00142</td><td>0.00288</td><td>0.00248</td><td>771</td><td>0</td><td>1</td><td>4</td><td>INDEF</td><td>2.0</td></tr>\n",
       "<tr><td>47</td><td>175.38</td><td>0.036</td><td>0.000808</td><td>0.0333</td><td>0.0235</td><td>0.3846</td><td>INDEF</td><td>-84.13</td><td>INDEF</td><td>441.0</td><td>INDEF</td><td>297.0</td><td>INDEF</td><td>-0.00839</td><td>INDEF</td><td>INDEF</td><td>3.63913</td><td>3.61</td><td>0.0246</td><td>0.0241</td><td>12320.0</td><td>12863.0</td><td>-10.2</td><td>-10.3</td><td>59463</td><td>96637</td><td>0.00292</td><td>0.00245</td><td>0.00336</td><td>0.0028</td><td>0.00101</td><td>0.0011</td><td>0.00435</td><td>0.00356</td><td>848</td><td>0</td><td>1</td><td>4</td><td>INDEF</td><td>2.0</td></tr>\n",
       "<tr><td>48</td><td>192.92</td><td>0.0235</td><td>0.000709</td><td>0.0306</td><td>0.0217</td><td>0.3846</td><td>INDEF</td><td>-84.13</td><td>INDEF</td><td>441.0</td><td>INDEF</td><td>297.0</td><td>INDEF</td><td>-0.00671</td><td>INDEF</td><td>INDEF</td><td>3.72689</td><td>4.07</td><td>0.0332</td><td>0.0322</td><td>12726.0</td><td>13196.0</td><td>-10.3</td><td>-10.3</td><td>71947</td><td>116897</td><td>0.00121</td><td>0.00124</td><td>0.000563</td><td>0.000896</td><td>-0.00133</td><td>0.0013</td><td>0.00562</td><td>0.00456</td><td>933</td><td>0</td><td>1</td><td>4</td><td>INDEF</td><td>2.0</td></tr>\n",
       "<tr><td>49</td><td>212.22</td><td>0.0183</td><td>0.000684</td><td>0.031</td><td>0.0219</td><td>0.3846</td><td>INDEF</td><td>-84.13</td><td>INDEF</td><td>441.0</td><td>INDEF</td><td>297.0</td><td>INDEF</td><td>-0.00537</td><td>INDEF</td><td>INDEF</td><td>3.81675</td><td>4.35</td><td>0.0414</td><td>0.0399</td><td>13101.0</td><td>13902.0</td><td>-10.3</td><td>-10.4</td><td>87083</td><td>141497</td><td>0.00116</td><td>0.00126</td><td>0.000966</td><td>0.00115</td><td>-0.00483</td><td>0.00395</td><td>0.00354</td><td>0.00295</td><td>1026</td><td>0</td><td>1</td><td>4</td><td>INDEF</td><td>2.0</td></tr>\n",
       "<tr><td>50</td><td>233.44</td><td>0.0137</td><td>0.000563</td><td>0.0268</td><td>0.0189</td><td>0.3846</td><td>INDEF</td><td>-84.13</td><td>INDEF</td><td>441.0</td><td>INDEF</td><td>297.0</td><td>INDEF</td><td>-0.00429</td><td>INDEF</td><td>INDEF</td><td>3.90879</td><td>4.66</td><td>0.0457</td><td>0.0438</td><td>13412.0</td><td>14823.0</td><td>-10.3</td><td>-10.4</td><td>105353</td><td>171209</td><td>-0.000758</td><td>0.000997</td><td>0.00272</td><td>0.00231</td><td>-0.00249</td><td>0.00214</td><td>0.00618</td><td>0.005</td><td>1129</td><td>0</td><td>1</td><td>4</td><td>INDEF</td><td>2.0</td></tr>\n",
       "<tr><td>51</td><td>256.78</td><td>0.00893</td><td>0.000529</td><td>0.0263</td><td>0.0186</td><td>0.3846</td><td>INDEF</td><td>-84.13</td><td>INDEF</td><td>441.0</td><td>INDEF</td><td>297.0</td><td>INDEF</td><td>-0.00344</td><td>INDEF</td><td>INDEF</td><td>4.00305</td><td>5.12</td><td>0.0663</td><td>0.0625</td><td>13688.0</td><td>15049.0</td><td>-10.3</td><td>-10.4</td><td>127473</td><td>207141</td><td>-0.00101</td><td>0.00117</td><td>0.0019</td><td>0.00174</td><td>-0.00265</td><td>0.00228</td><td>0.00181</td><td>0.00168</td><td>1241</td><td>0</td><td>1</td><td>4</td><td>INDEF</td><td>2.0</td></tr>\n",
       "</table>"
      ],
      "text/plain": [
       "<Table length=51>\n",
       " row    SMA    INTENS INT_ERR  PIX_VAR ... NFLAG NITER  STOP A_BIG  SAREA \n",
       "int64 float64 float64 float64  float64 ... int64 int64 int64  str5 float64\n",
       "----- ------- ------- -------- ------- ... ----- ----- ----- ----- -------\n",
       "    1    2.19     4.4   0.0396   0.202 ...     0     1     0 INDEF     2.0\n",
       "    2    2.41     4.3   0.0417   0.213 ...     0     1     0 INDEF     2.0\n",
       "    3    2.65    4.18    0.041   0.217 ...     0     1     0 INDEF     2.0\n",
       "    4    2.91    4.05   0.0384   0.211 ...     0     1     0 INDEF     2.0\n",
       "    5     3.2    3.92   0.0393   0.222 ...     0     1     0 INDEF     2.0\n",
       "    6    3.52    3.78   0.0396   0.231 ...     0     1     0 INDEF     2.0\n",
       "    7    3.88    3.61   0.0347   0.214 ...     0     1     0 INDEF     2.0\n",
       "    8    4.26    3.43   0.0329   0.213 ...     0     1     0 INDEF     2.0\n",
       "    9    4.69    3.25   0.0282   0.191 ...     0     1     0 INDEF     2.0\n",
       "   10    5.16    3.08   0.0261   0.185 ...     0     1     0 INDEF     2.0\n",
       "  ...     ...     ...      ...     ... ...   ...   ...   ...   ...     ...\n",
       "   42   108.9   0.139  0.00183  0.0593 ...     0     1     4 INDEF     2.0\n",
       "   43  119.79  0.0988  0.00164   0.056 ...     0     1     4 INDEF     2.0\n",
       "   44  131.77  0.0715  0.00108  0.0384 ...     0     1     4 INDEF     2.0\n",
       "   45  144.95  0.0596 0.000865  0.0324 ...     0     1     4 INDEF     2.0\n",
       "   46  159.44  0.0513  0.00112  0.0442 ...     0     1     4 INDEF     2.0\n",
       "   47  175.38   0.036 0.000808  0.0333 ...     0     1     4 INDEF     2.0\n",
       "   48  192.92  0.0235 0.000709  0.0306 ...     0     1     4 INDEF     2.0\n",
       "   49  212.22  0.0183 0.000684   0.031 ...     0     1     4 INDEF     2.0\n",
       "   50  233.44  0.0137 0.000563  0.0268 ...     0     1     4 INDEF     2.0\n",
       "   51  256.78 0.00893 0.000529  0.0263 ...     0     1     4 INDEF     2.0"
      ]
     },
     "execution_count": 8,
     "metadata": {},
     "output_type": "execute_result"
    }
   ],
   "source": [
    "rdat"
   ]
  },
  {
   "cell_type": "markdown",
   "metadata": {},
   "source": [
    "## Rotation Curve ##\n",
    "\n",
    "Look up UGC 4895 using the SDSS navigator http://skyserver.sdss.org/dr14/en/tools/chart/navi.aspx.\n",
    "\n",
    "Turn the grid feature on, and use the scale to estimate the approximate size of UGC 4895.\n",
    "Record your results in the cell below.\n",
    "\n",
    "Compare this to the ellipticity measured in the rdat file."
   ]
  },
  {
   "cell_type": "code",
   "execution_count": 9,
   "metadata": {},
   "outputs": [
    {
     "ename": "SyntaxError",
     "evalue": "invalid syntax (<ipython-input-9-ae26540db16d>, line 1)",
     "output_type": "error",
     "traceback": [
      "\u001b[0;36m  File \u001b[0;32m\"<ipython-input-9-ae26540db16d>\"\u001b[0;36m, line \u001b[0;32m1\u001b[0m\n\u001b[0;31m    mylength =  # longest dimension, major axis\u001b[0m\n\u001b[0m                                               ^\u001b[0m\n\u001b[0;31mSyntaxError\u001b[0m\u001b[0;31m:\u001b[0m invalid syntax\n"
     ]
    }
   ],
   "source": [
    "mylength =  # longest dimension, major axis\n",
    "mywidth =   # shortest dimension, minor axis\n",
    "myellip = mywidth/mylength\n"
   ]
  },
  {
   "cell_type": "markdown",
   "metadata": {},
   "source": [
    "### Plotting the Rotation Curve ###\n",
    "\n",
    "We will next make a plot of the rotation velocity versus distance from the center of the galaxy."
   ]
  },
  {
   "cell_type": "code",
   "execution_count": 10,
   "metadata": {},
   "outputs": [
    {
     "data": {
      "text/plain": [
       "Text(0,0.5,'Rotation Velocity (km/s)')"
      ]
     },
     "execution_count": 10,
     "metadata": {},
     "output_type": "execute_result"
    },
    {
     "data": {
      "image/png": "[encoded data removed]",
      "text/plain": [
       "<Figure size 432x288 with 1 Axes>"
      ]
     },
     "metadata": {},
     "output_type": "display_data"
    }
   ],
   "source": [
    "plt.figure()\n",
    "plt.plot(ha['rad'],ha['vrot'],'bo')\n",
    "plt.xlabel('Radius (arcseconds)', fontsize=16)\n",
    "plt.ylabel('Rotation Velocity (km/s)',fontsize=16)\n"
   ]
  },
  {
   "cell_type": "markdown",
   "metadata": {},
   "source": [
    "Redo the plot above, but convert the radius from arcseconds to kpc.  To do this, you will need the galaxy's distance.  \n",
    "* Use NED (https://ned.ipac.caltech.edu/) to get the recession velocity of UGC4895.  Record it below (with the uncertainty).\n",
    "* Use Hubble's Law to get the distance in Mpc (assume $H_0 = 70$ km/s/Mpc).\n",
    "\n",
    "$$ v_r = H_0 d $$\n",
    "\n",
    "* you will also need to convert the radius from units of arcseconds to radians.  Remember 3600 arcseconds = 1 degree.\n",
    "\n",
    "* You can then use the small angle formula:\n",
    "\n",
    "$$ radius_{kpc} = radius_{radians} \\times d_{kpc} $$"
   ]
  },
  {
   "cell_type": "code",
   "execution_count": 32,
   "metadata": {},
   "outputs": [
    {
     "name": "stdout",
     "output_type": "stream",
     "text": [
      "3.1121219588800006e+24\n"
     ]
    }
   ],
   "source": [
    "cz = v_recession# recession velocity\n",
    "d = cz/70.# distance in Mpc\n",
    "d_kpc = d*1.e3# distance in kpc\n",
    "\n",
    "# convert radius is arcsec to radius in radians\n",
    "r_radian = ha['rad']/3600.*(np.pi/180.)\n",
    "r_kpc = r_radian*d_kpc#\n",
    "r_m = r_kpc * 3.086e19\n",
    "print(d_kpc*1000.*3.08e16)"
   ]
  },
  {
   "cell_type": "markdown",
   "metadata": {},
   "source": [
    "**Questions**\n",
    "3. Estimate the maximum/minimum rotation velocity.\n",
    "4. How does the rotation curve compare with the orbital velocity of planets in our solar system vs. distance from the Sun?\n",
    "5. If you left Albany in a vehicle that was traveling as fast as the stars in UGC4895, what interesting destinations could you reach within 2 seconds of travel?"
   ]
  },
  {
   "cell_type": "markdown",
   "metadata": {},
   "source": [
    "### Correct Rotational Velocity for Inclination ###\n",
    "\n",
    "\n",
    "When we observe the rotation velocity of an edge-on spiral galaxy, we measure\n",
    "its true rotation velocity.  If we observe a galaxy that is face-on, we\n",
    "can not detect any rotation velocity because the rotational motion is \n",
    "perpendicular to our line-of-sight.\n",
    "\n",
    "\n",
    "* Remember the observed and true rotational velocities depend on the\n",
    "inclination of a galaxy, where the inclination angle is 90 degrees for\n",
    "an edge-on galaxy and 0 degrees for a face-on galaxy.\n",
    "* If we assume that all spiral galaxies are perfectly circular, then the apparent\n",
    "shape of a galaxy tells us about its inclination.  For example, a face-on\n",
    "galaxy with have equal semi-major (a) and semi-minor (b) axes, whereas a nearly edge-on galaxy will have a semi-major axis that is much larger than the observed semi-minor axis.\n",
    "* The ratio $b/a$ is given in the rdat file (ellipticity).\n",
    "* Use this information to calculate the galaxy's inclination, where\n",
    "\n",
    "$$sin i = \\sqrt{1 - \\left(\\frac{b}{a} \\right)^2}.$$\n",
    "\n",
    "* Use the inclination angles to correct the observed rotational velocities\n",
    "to true rotational velocities, where\n",
    "\n",
    "$$ v_{rot} = \\frac{v_{rot}(obs)}{sin i} $$\n"
   ]
  },
  {
   "cell_type": "code",
   "execution_count": 12,
   "metadata": {},
   "outputs": [],
   "source": [
    "ba = .3846# semi-minor axis\n",
    "sini = np.sqrt(1 -ba**2)# inclination\n",
    "vrot = ha['vrot']/sini# corrected rotational velocity"
   ]
  },
  {
   "cell_type": "markdown",
   "metadata": {},
   "source": [
    "### Estimate Mass from Rotational Velocity ###\n",
    "\n",
    "Now let's think about the motion of one ${\\it test}$ star in the galaxy.  Let this star be some distance $r_\\star$ from the center of the galaxy.  Gauss's Law tells us that the gravitational acceleration of a mass depends on the amount of material inside the mass's orbit, $M(<r_\\star)$.  \n",
    "\n",
    "Assume that the star is on a circular orbit, and that the only important force on the star is the gravitational force from the combined mass at $r < r_\\star$.  Come up with an expression for the velocity of the star as a function of $M(r)$.\n",
    "\n",
    "Use your relationship to create a plot of enclosed mass vs. radius.\n",
    "\n",
    "\n",
    "$$ M(r) = \\frac{v^2 r}{G} $$"
   ]
  },
  {
   "cell_type": "code",
   "execution_count": 13,
   "metadata": {},
   "outputs": [],
   "source": [
    "# plot of enclosed mass in solar masses versus radius in kpc\n",
    "mass = (vrot*1.e3)**2 * r_m/6.67e-11 # mass in kg\n",
    "mass_msun = mass/2.e30 # convert to solar masses"
   ]
  },
  {
   "cell_type": "code",
   "execution_count": 14,
   "metadata": {},
   "outputs": [
    {
     "data": {
      "image/png": "[encoded data removed]",
      "text/plain": [
       "<Figure size 432x288 with 1 Axes>"
      ]
     },
     "metadata": {},
     "output_type": "display_data"
    }
   ],
   "source": [
    "plt.figure()\n",
    "plotflag = r_kpc > 0\n",
    "plt.plot(r_kpc[plotflag],mass_msun[plotflag],'bo')\n",
    "plt.ylabel(r'$Enclosed \\ Dynamical \\ Mass  \\ (M_\\odot)$', fontsize = 20)\n",
    "plt.xlabel(r'$Radius \\ (kpc)$', fontsize=20)\n",
    "plt.xticks(fontsize=14)\n",
    "plt.yticks(fontsize=14)\n",
    "plt.gca().set_yscale('log')"
   ]
  },
  {
   "cell_type": "markdown",
   "metadata": {},
   "source": [
    "## Surface Brightness Profile ##\n",
    "### Convert Surface Brightness to Stellar Mass ###\n",
    "\n",
    "The plot below shows the surface brightness of the galaxy as a function of radius.  Remember that large magnitudes are fainter, so the graph shows that the galaxy's light is getting fainter as the distance from the center increases.\n",
    "\n",
    "We want to use the observed brightness to estimate the mass associated with light we see.\n",
    "\n"
   ]
  },
  {
   "cell_type": "code",
   "execution_count": 15,
   "metadata": {},
   "outputs": [
    {
     "data": {
      "text/plain": [
       "Text(0,0.5,'$\\\\rm r-band \\\\ Surface \\\\ Brightness  \\\\ (mag/arcsec^2)$')"
      ]
     },
     "execution_count": 15,
     "metadata": {},
     "output_type": "execute_result"
    },
    {
     "data": {
      "image/png": "[encoded data removed]",
      "text/plain": [
       "<Figure size 432x288 with 1 Axes>"
      ]
     },
     "metadata": {},
     "output_type": "display_data"
    }
   ],
   "source": [
    "plt.figure()\n",
    "plt.plot(rdat['SMA'],rdat['MAG'],'bo')\n",
    "plt.xlabel('Radius (pixels)', fontsize=16)\n",
    "plt.ylabel(r'$\\rm r-band \\ Surface \\ Brightness  \\ (mag/arcsec^2)$',fontsize=16)\n"
   ]
  },
  {
   "cell_type": "markdown",
   "metadata": {},
   "source": [
    "We can estimate the stellar mass from the observed color and magnitude of a galaxy.  \n",
    "\n",
    "\n",
    "First, we can estimate the mass-to-light ration from the color of the galaxy according to Bell+2003 (http://iopscience.iop.org/article/10.1086/378847/fulltext/)\n",
    "\n",
    "$$\\rm (M/L_r) = -0.306 + 1.097(g - r) $$\n",
    "\n",
    "Use the SDSS navigator to get an approximate value for the $g-r$ color of UCG4895.\n",
    "\n"
   ]
  },
  {
   "cell_type": "code",
   "execution_count": 16,
   "metadata": {},
   "outputs": [
    {
     "name": "stdout",
     "output_type": "stream",
     "text": [
      "0.5386900000000034\n"
     ]
    }
   ],
   "source": [
    "g = 17.60\n",
    "r = 16.83\n",
    "gr = g - r# g-r color\n",
    "ML = -0.306 + 1.097*gr#mass to light ratio\n",
    "print(ML)"
   ]
  },
  {
   "cell_type": "markdown",
   "metadata": {},
   "source": [
    "You now have to convert the enclosed flux, TFLUX_E, to units of stellar mass.\n",
    "\n",
    "The units of $r$-band image are nanomaggies, where\n",
    "$$\\rm 1 ~ nanomaggy = 3.631 \\times 10^{-6}~Jy. $$\n",
    "\n",
    "* convert from nanomaggies to Jansky (Jy)\n",
    "* convert from Jy to $10^{-23}~ ergs/s/cm^2$ by multiplying by the bandpass of the r-band filter in Hertz.\n",
    "* convert to ergs/s by multiplying by $4 \\pi d^2$, where d is the distance in cm.\n",
    "* convert to $L_\\odot$ by dividing by the luminosity of the sun.\n",
    "\n",
    "\n",
    "Good luck!\n"
   ]
  },
  {
   "cell_type": "code",
   "execution_count": 33,
   "metadata": {},
   "outputs": [],
   "source": [
    "f_Jy = rdat['TFLUX_E']*3.631e-6 # janskies\n",
    "fnu_mks = f_Jy*1.e-26 # flux in Watts/m^2/Hz\n",
    "fnu_cgs = f_Jy*1.e-23 # flux in erg/s/cm^2/Hz"
   ]
  },
  {
   "cell_type": "markdown",
   "metadata": {},
   "source": [
    "Calculate frequency of r-band filter according to the equation\n",
    "\n",
    "$$ c = \\nu \\lambda $$\n",
    "\n",
    "You can get central wavelength and  from \n",
    "\n",
    "http://www.aip.de/en/research/facilities/stella/instruments/data/sloanugriz-filter-curves"
   ]
  },
  {
   "cell_type": "code",
   "execution_count": 66,
   "metadata": {},
   "outputs": [
    {
     "name": "stdout",
     "output_type": "stream",
     "text": [
      "4.835589941972921\n"
     ]
    }
   ],
   "source": [
    "lambda_r = 620.4e-9 # m  http://www.aip.de/en/research/facilities/stella/instruments/data/sloanugriz-filter-curves\n",
    "nu = 3.e8/lambda_r\n",
    "print(nu/1.e14)"
   ]
  },
  {
   "cell_type": "markdown",
   "metadata": {},
   "source": [
    "Now we can continue with conversion of nanomaggies to luminosity."
   ]
  },
  {
   "cell_type": "code",
   "execution_count": 19,
   "metadata": {},
   "outputs": [],
   "source": [
    "f_cgs = fnu_cgs*nu"
   ]
  },
  {
   "cell_type": "markdown",
   "metadata": {},
   "source": [
    "So now we have flux in $erg/s/cm^2$.  Our next step is to multiply by $4 \\pi d^2$.  \n",
    "\n",
    "\n",
    "We can get distance from Hubble Law:\n",
    "\n",
    "$$v_{recession} = H_0 d$$\n",
    "\n",
    "which we already did - d_kpc\n",
    "\n",
    "$$d = \\frac{v_{recession}}{H_0} $$\n",
    "\n",
    "\n"
   ]
  },
  {
   "cell_type": "code",
   "execution_count": 35,
   "metadata": {},
   "outputs": [],
   "source": [
    "d_m = d_kpc*3.086e19 # convert to m"
   ]
  },
  {
   "cell_type": "code",
   "execution_count": 23,
   "metadata": {},
   "outputs": [],
   "source": [
    "# calculate luminosity in erg/s\n",
    "L_ergss = f_cgs*4*np.pi*(d_m*100.)**2\n",
    "# convert to solar luminosities\n",
    "L_sol = L_ergss/3.828e33 # Lsun = 3.839 x 10^33 erg/s\n",
    "# convert to stellar mass in units of M_sun\n",
    "mass_stars_Msol = ML * L_sol"
   ]
  },
  {
   "cell_type": "markdown",
   "metadata": {},
   "source": [
    "You also need to convert the radius values from pixels to arcseconds.  The r-band data comes from the SDSS, which has a pixel scale of 0.396 arcseconds/pixel."
   ]
  },
  {
   "cell_type": "code",
   "execution_count": 43,
   "metadata": {},
   "outputs": [],
   "source": [
    "rband_rad_arcsec = rdat['SMA']*.396   # finish this line to convert semi-major axis from pixels to arcseconds\n",
    "# convert radius is arcsec to radius in radians\n",
    "rband_rad_radian = rrad_arcsec/3600.*(np.pi/180.)\n",
    "# convert to kpc using the small angle formula\n",
    "rband_rad_kpc = rrad_radian*d_kpc#"
   ]
  },
  {
   "cell_type": "code",
   "execution_count": 61,
   "metadata": {},
   "outputs": [
    {
     "data": {
      "text/plain": [
       "101042.92074285715"
      ]
     },
     "execution_count": 61,
     "metadata": {},
     "output_type": "execute_result"
    }
   ],
   "source": [
    "d_kpc"
   ]
  },
  {
   "cell_type": "code",
   "execution_count": 44,
   "metadata": {},
   "outputs": [
    {
     "data": {
      "text/plain": [
       "Text(0,0.5,'$Enclosed \\\\ Mass \\\\ in \\\\ Stars \\\\ (M_\\\\odot)$')"
      ]
     },
     "execution_count": 44,
     "metadata": {},
     "output_type": "execute_result"
    },
    {
     "data": {
      "image/png": "[encoded data removed]",
      "text/plain": [
       "<Figure size 432x288 with 1 Axes>"
      ]
     },
     "metadata": {},
     "output_type": "display_data"
    }
   ],
   "source": [
    "plt.figure()\n",
    "plt.plot(rband_rad_kpc, mass_stars_Msol,'r*')\n",
    "plt.xlabel(r'$Radius \\ (kpc)$', fontsize=20)\n",
    "plt.ylabel(r'$Enclosed \\ Mass \\ in \\ Stars \\ (M_\\odot)$', fontsize=20)"
   ]
  },
  {
   "cell_type": "markdown",
   "metadata": {},
   "source": [
    "## Tying it all together ##\n",
    "\n",
    "Create a plot that shows the enclosed mass AND the mass associated with the stars.  \n",
    "\n",
    "Calculate the difference between these two curves to create a plot of the missing mass versus radius."
   ]
  },
  {
   "cell_type": "code",
   "execution_count": 64,
   "metadata": {},
   "outputs": [
    {
     "data": {
      "text/plain": [
       "(100000000.0, 400000000000.0)"
      ]
     },
     "execution_count": 64,
     "metadata": {},
     "output_type": "execute_result"
    },
    {
     "data": {
      "image/png": "[encoded data removed]",
      "text/plain": [
       "<Figure size 432x288 with 1 Axes>"
      ]
     },
     "metadata": {},
     "output_type": "display_data"
    }
   ],
   "source": [
    "plt.figure()\n",
    "# plot enclosed dynamical mass\n",
    "plotflag = r_kpc > 0\n",
    "plt.plot(r_kpc[plotflag],mass_msun[plotflag],'bo', label='Dynamical Mass')\n",
    "plt.ylabel(r'$Enclosed \\ Mass  \\ (M_\\odot)$', fontsize = 20)\n",
    "plt.xlabel(r'$Radius \\ (kpc)$', fontsize=20)\n",
    "plt.xticks(fontsize=14)\n",
    "plt.yticks(fontsize=14)\n",
    "plt.gca().set_yscale('log')\n",
    "# plot enclosed mass from stars\n",
    "plt.plot(rband_rad_kpc, mass_stars_Msol,'r*',label='Mass in Stars')\n",
    "plt.legend()\n",
    "plt.xlim(0,20)\n",
    "plt.ylim(1.e8,4.e11)\n",
    "\n"
   ]
  },
  {
   "cell_type": "code",
   "execution_count": 65,
   "metadata": {},
   "outputs": [
    {
     "data": {
      "text/plain": [
       "Text(0.5,0,'$Radius \\\\ (kpc)$')"
      ]
     },
     "execution_count": 65,
     "metadata": {},
     "output_type": "execute_result"
    },
    {
     "data": {
      "image/png": "[encoded data removed]",
      "text/plain": [
       "<Figure size 432x288 with 1 Axes>"
      ]
     },
     "metadata": {},
     "output_type": "display_data"
    }
   ],
   "source": [
    "c1 =  np.polyfit(rband_rad_kpc, mass_stars_Msol, 5)\n",
    "xline = np.linspace(0,20,50)\n",
    "yline1 = np.polyval(c1,xline)\n",
    "#plt.plot(xline,yline1,'r-')\n",
    "\n",
    "c2 =  np.polyfit(r_kpc[plotflag],mass_msun[plotflag], 5)\n",
    "yline2 = np.polyval(c2,xline)\n",
    "#plt.plot(xline,yline2,'b-')\n",
    "# plot difference vs radius\n",
    "plt.figure()\n",
    "plt.plot(xline,yline2-yline1)\n",
    "plt.ylabel(r'$Missing \\ Mass \\ (M_\\odot)$', fontsize = 20)\n",
    "plt.xlabel(r'$Radius \\ (kpc)$', fontsize=20)"
   ]
  },
  {
   "cell_type": "code",
   "execution_count": null,
   "metadata": {},
   "outputs": [],
   "source": []
  }
 ],
 "metadata": {
  "kernelspec": {
   "display_name": "Python 3",
   "language": "python",
   "name": "python3"
  },
  "language_info": {
   "codemirror_mode": {
    "name": "ipython",
    "version": 3
   },
   "file_extension": ".py",
   "mimetype": "text/x-python",
   "name": "python",
   "nbconvert_exporter": "python",
   "pygments_lexer": "ipython3",
   "version": "3.6.5"
  }
 },
 "nbformat": 4,
 "nbformat_minor": 2
}
