{
 "cells": [
  {
   "cell_type": "code",
   "execution_count": 112,
   "metadata": {},
   "outputs": [],
   "source": [
    "import numpy as np\n",
    "from matplotlib import pyplot as plt\n",
    "from astropy import constants as const\n",
    "from astropy import units as u"
   ]
  },
  {
   "cell_type": "markdown",
   "metadata": {},
   "source": [
    "### Problem 3.1 ###\n",
    "\n",
    "Sketch orbital speed as a function of orbital size for a planet orbiting the Sun.\n",
    "\n",
    "\n",
    "$ \\vec{F} = m \\vec{a}$\n",
    "\n",
    "$\\frac{G M_\\odot m}{r^2} =  \\frac{m~v^2}{r} $\n",
    "\n",
    "$\\frac{G M_\\odot }{r^2} =  \\frac{v^2}{r} $\n",
    "\n",
    "$\\frac{G M_\\odot }{r} =  {v^2} $\n",
    "\n",
    "$\\sqrt{\\frac{G M_\\odot }{r}} =  {v} $"
   ]
  },
  {
   "cell_type": "code",
   "execution_count": 113,
   "metadata": {},
   "outputs": [],
   "source": [
    "# I know pluto is at 39 AU, so make radius span from 0 the 39*1.5e11\n",
    "r = np.linspace(.1,39.,100)*const.au\n",
    "v = np.sqrt(const.G*const.M_sun/r)"
   ]
  },
  {
   "cell_type": "code",
   "execution_count": 114,
   "metadata": {},
   "outputs": [
    {
     "data": {
      "text/plain": [
       "Text(0,0.5,'Orbital speed (m/s)')"
      ]
     },
     "execution_count": 114,
     "metadata": {},
     "output_type": "execute_result"
    },
    {
     "data": {
      "image/png": "[encoded data removed]",
      "text/plain": [
       "<Figure size 432x288 with 1 Axes>"
      ]
     },
     "metadata": {},
     "output_type": "display_data"
    }
   ],
   "source": [
    "plt.figure()\n",
    "plt.plot(r,v,label='Keplerian Motion')\n",
    "plt.xlabel('Semi-major axis (m)',fontsize=14)\n",
    "plt.ylabel('Orbital speed (m/s)',fontsize=14)"
   ]
  },
  {
   "cell_type": "markdown",
   "metadata": {},
   "source": [
    "### Problem 3.3 ###\n",
    "\n",
    "Given:\n",
    "* $P = 27$ yr\n",
    "* $r_{min} = 3$ AU\n"
   ]
  },
  {
   "cell_type": "code",
   "execution_count": 115,
   "metadata": {},
   "outputs": [],
   "source": [
    "P = 27\n",
    "rmin = 3"
   ]
  },
  {
   "cell_type": "markdown",
   "metadata": {},
   "source": [
    "Find:\n",
    "* $r_{max}$\n",
    "\n",
    "\n",
    "Solution:\n",
    "\n",
    "First, we can find the semi-major axis using Kepler's third law:\n",
    "\n",
    "$P^2 = a^3$\n",
    "\n",
    "$ a = P^{\\frac{2}{3}} $"
   ]
  },
  {
   "cell_type": "code",
   "execution_count": 116,
   "metadata": {},
   "outputs": [
    {
     "name": "stdout",
     "output_type": "stream",
     "text": [
      "9.0\n"
     ]
    }
   ],
   "source": [
    "a = (27)**(2./3)\n",
    "print('%.1f'%(a))"
   ]
  },
  {
   "cell_type": "markdown",
   "metadata": {},
   "source": [
    "Then, we know from Eqn 3.3 that pericenter (closest point)\n",
    "\n",
    "$r_p = r_{min} = a(1 - e)$\n",
    "\n",
    "We are given $r_{min}$ so we can now solve for $e$:\n",
    "\n",
    "$e = 1 - \\frac{r_{min}}{a}$"
   ]
  },
  {
   "cell_type": "code",
   "execution_count": 117,
   "metadata": {},
   "outputs": [
    {
     "name": "stdout",
     "output_type": "stream",
     "text": [
      "0.67\n"
     ]
    }
   ],
   "source": [
    "e = 1 - rmin/a\n",
    "print('%.2f'%(e))"
   ]
  },
  {
   "cell_type": "markdown",
   "metadata": {},
   "source": [
    "and at apocenter (furthest point)\n",
    "\n",
    "$r_a = r_{max} = a(1+e) $\n",
    "\n",
    "So now we can solve for $r_{max}$."
   ]
  },
  {
   "cell_type": "code",
   "execution_count": 118,
   "metadata": {},
   "outputs": [
    {
     "name": "stdout",
     "output_type": "stream",
     "text": [
      "15.0\n"
     ]
    }
   ],
   "source": [
    "rmax = a*(1+e)\n",
    "print('%.1f'%(rmax))"
   ]
  },
  {
   "cell_type": "markdown",
   "metadata": {},
   "source": [
    "### Problem 3.5 ###\n",
    "\n",
    "Solved in another notebook.\n",
    "\n",
    "https://github.com/rfinn/ASTR390/blob/master/jupiter-mass.ipynb"
   ]
  },
  {
   "cell_type": "markdown",
   "metadata": {},
   "source": [
    "### Problem 3.7 ###\n",
    "\n",
    "Given:\n",
    "* extrasolar planet\n",
    "* $M_\\star = 2 M_\\odot$\n",
    "* P = 3 months\n",
    "\n",
    "Find:\n",
    "* semi-major axis\n",
    "\n",
    "Solution:\n",
    "\n",
    "Use the full form of Kepler's Third Law:\n",
    "\n",
    "$ P^2 = \\frac{4 \\pi^2}{GM} a^3 $\n",
    "\n",
    "\n",
    "To solve for a:\n",
    "\n",
    "$ a^3 = P^2 \\frac{GM}{4\\pi^2} $\n",
    "\n",
    "\n",
    "$ a = \\left(P^2 \\frac{GM}{4\\pi^2} \\right) ^{1/3} $"
   ]
  },
  {
   "cell_type": "code",
   "execution_count": 119,
   "metadata": {},
   "outputs": [],
   "source": [
    "M = 2.*const.M_sun"
   ]
  },
  {
   "cell_type": "code",
   "execution_count": 120,
   "metadata": {},
   "outputs": [],
   "source": [
    "# convert period to seconds\n",
    "P = 3.*(30)*(24)*3600*u.s # (30 d/month)(24hr/d)(3600s/hr)"
   ]
  },
  {
   "cell_type": "code",
   "execution_count": 121,
   "metadata": {},
   "outputs": [
    {
     "name": "stdout",
     "output_type": "stream",
     "text": [
      "0.495 AU\n"
     ]
    }
   ],
   "source": [
    "a = np.cbrt((P**2)*const.G*M/(4*np.pi**2))\n",
    "print('%.3f AU'%(a.to(u.au).value))"
   ]
  },
  {
   "cell_type": "markdown",
   "metadata": {},
   "source": [
    "### Problem 3.8 ###\n",
    "\n",
    "Given:\n",
    "* $\\lambda = 6600$ A\n",
    "* $a = 30$ pc\n",
    "* $M_{BH} = 9 \\times 10^8 M_\\odot $\n",
    "\n",
    "Find:\n",
    "* $\\Delta \\lambda$ for light emitted by gas at 30 pc\n",
    "\n",
    "\n",
    "Solution:\n",
    "\n",
    "* Find period of rotation for gas\n",
    "* Then calculate speed of rotation using $v = 2 \\pi r/P$\n",
    "* Then calculate shift in wavelength using $v/c = \\Delta \\lambda/\\lambda $\n",
    "\n",
    "Period from Kepler's 3rd Law:\n",
    "\n",
    "$ P = \\sqrt{\\frac{4 \\pi^2}{GM} a^3}$\n",
    "\n"
   ]
  },
  {
   "cell_type": "code",
   "execution_count": 122,
   "metadata": {},
   "outputs": [],
   "source": [
    "lamb = 6600.*1.e-10*u.m\n",
    "a = 30.*u.pc\n",
    "M = 9.e8 * const.M_sun"
   ]
  },
  {
   "cell_type": "code",
   "execution_count": 123,
   "metadata": {},
   "outputs": [
    {
     "data": {
      "text/latex": [
       "$9.2570327 \\times 10^{17} \\; \\mathrm{m}$"
      ],
      "text/plain": [
       "<Quantity 9.25703274e+17 m>"
      ]
     },
     "execution_count": 123,
     "metadata": {},
     "output_type": "execute_result"
    }
   ],
   "source": [
    "a.to(u.m)"
   ]
  },
  {
   "cell_type": "code",
   "execution_count": 124,
   "metadata": {},
   "outputs": [],
   "source": [
    "P = np.sqrt(4*np.pi**2*(a.to(u.m))**3/const.G/M)"
   ]
  },
  {
   "cell_type": "code",
   "execution_count": 125,
   "metadata": {},
   "outputs": [
    {
     "data": {
      "text/latex": [
       "$513105.33 \\; \\mathrm{yr}$"
      ],
      "text/plain": [
       "<Quantity 513105.33406267 yr>"
      ]
     },
     "execution_count": 125,
     "metadata": {},
     "output_type": "execute_result"
    }
   ],
   "source": [
    "P.to(u.yr)"
   ]
  },
  {
   "cell_type": "markdown",
   "metadata": {},
   "source": [
    "Find velocity"
   ]
  },
  {
   "cell_type": "code",
   "execution_count": 126,
   "metadata": {},
   "outputs": [],
   "source": [
    "v = 2 * np.pi * a.to(u.m)/P"
   ]
  },
  {
   "cell_type": "markdown",
   "metadata": {},
   "source": [
    "Solve for $\\Delta \\lambda$"
   ]
  },
  {
   "cell_type": "code",
   "execution_count": 127,
   "metadata": {},
   "outputs": [],
   "source": [
    "dlamb = v/const.c * lamb"
   ]
  },
  {
   "cell_type": "code",
   "execution_count": 128,
   "metadata": {},
   "outputs": [
    {
     "data": {
      "text/latex": [
       "$7.9079589 \\times 10^{-10} \\; \\mathrm{m}$"
      ],
      "text/plain": [
       "<Quantity 7.90795892e-10 m>"
      ]
     },
     "execution_count": 128,
     "metadata": {},
     "output_type": "execute_result"
    }
   ],
   "source": [
    "dlamb"
   ]
  },
  {
   "cell_type": "markdown",
   "metadata": {},
   "source": [
    "So the shift is 8 Angstroms.  Yay!"
   ]
  }
 ],
 "metadata": {
  "kernelspec": {
   "display_name": "Python 3",
   "language": "python",
   "name": "python3"
  },
  "language_info": {
   "codemirror_mode": {
    "name": "ipython",
    "version": 3
   },
   "file_extension": ".py",
   "mimetype": "text/x-python",
   "name": "python",
   "nbconvert_exporter": "python",
   "pygments_lexer": "ipython3",
   "version": "3.6.5"
  }
 },
 "nbformat": 4,
 "nbformat_minor": 2
}
